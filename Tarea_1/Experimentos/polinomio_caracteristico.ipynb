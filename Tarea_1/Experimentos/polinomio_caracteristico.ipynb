{
 "cells": [
  {
   "cell_type": "markdown",
   "metadata": {},
   "source": [
    "### Método del polinomio característico"
   ]
  },
  {
   "cell_type": "markdown",
   "metadata": {},
   "source": [
    "Para la implementación del método se utilizará el paquete Sympy, el cual permite la representación exacta de expresiones matemáticas en Python. Se observará que el método funciona de manera correcta hasta la obtención de los valores propios. Sin embargo, no en todas será posible resolver el espacio nulo de $(A-\\lambda I)v = 0$, por lo que se debe usar otros métodos en específico para estas. "
   ]
  },
  {
   "cell_type": "markdown",
   "metadata": {},
   "source": [
    "Se importan a continuación las funciones de la librería necesarias para trabajar con las matrices"
   ]
  },
  {
   "cell_type": "code",
   "execution_count": 29,
   "metadata": {},
   "outputs": [],
   "source": [
    "from sympy.matrices import Matrix, eye\n",
    "from sympy import roots, shape, N\n",
    "from sympy.abc import (\n",
    "    lamda\n",
    ")  # Se usa 'lamda' porque lambda es una expresión reservada en Python"
   ]
  },
  {
   "cell_type": "code",
   "execution_count": 30,
   "metadata": {},
   "outputs": [],
   "source": [
    "def metodo_polinomio_caracteristico(matriz, find_eigenvectors=False):\n",
    "    \"\"\"Lee una matriz cuadrada y retorna sus autovalores y el polinomio caracteristico asociado\n",
    "    Params:\n",
    "        matriz: matriz cuadrada que se debe expresar como un array de arrays\n",
    "        e.g [[2, 1], [3, 4]].\n",
    "        find_eigenvectors (opcional): si es True, intenta calcular el espacio\n",
    "        nulo para hallar los autovectores asociados. No funciona con todas\n",
    "        las matrices.\n",
    "    Returns:\n",
    "        diccionario que contiene:\n",
    "        \"matriz\" matriz de Sympy ingresada.\n",
    "        \"autovalores\" valores propios hallados.\n",
    "        \"autovectores\" vectores propios hallados. Su posición está relacionada con la\n",
    "            de los autovalores.\n",
    "        \"polinomio_caracteristico\" polinomio asociado a la matriz en términos de lambda.\n",
    "    \"\"\"\n",
    "    M = Matrix(matriz)  # Generamos una matriz con los datos ingresados\n",
    "    n = shape(M)[0]  # n será la dim de M\n",
    "    mi = M - (lamda * eye(n))  # mi es (A-lambdaI)\n",
    "    mi_det = mi.det()  # hallar el determinante de mi para obtener el char. poly.\n",
    "    mi_roots = roots(mi_det)  # hallar raíces de det(A-lambdaI) = 0\n",
    "    mi_autovalor = []  # lista de autovalores\n",
    "    mi_autovector = []  # lista de autovectores\n",
    "    for eigenvalue in mi_roots.keys():\n",
    "        mi_autovalor.append(eigenvalue)  # guardamos el valor del valor propio\n",
    "        mi_1 = M - eigenvalue * eye(n)  # Reemplazamos iterativamente lambda en (A-lambdaI)x = 0 por cada uno\n",
    "                                        # de nuestros valores propios\n",
    "        if (find_eigenvectors == True): # Hallar el espacio nulo para encontrar el vector propio\n",
    "            mi_autovector.append(mi_1.nullspace())  \n",
    "\n",
    "    return {  # retorna la matriz, sus autovalores y vectores, y el polinomio característico\n",
    "        \"matriz\": M,\n",
    "        \"autovalores\": mi_autovalor,\n",
    "        \"autovectores\": mi_autovector,\n",
    "        \"polinomio_caracteristico\": mi_det,\n",
    "    }\n",
    "\n"
   ]
  },
  {
   "cell_type": "code",
   "execution_count": 31,
   "metadata": {},
   "outputs": [],
   "source": [
    "def print_poly(result):\n",
    "    \"\"\"fn que recibe los resultados de metodo_polinomio_caracteristico()\n",
    "    y los imprime para su visualización fácil.\n",
    "    Returns:\n",
    "        None\n",
    "    \"\"\"\n",
    "    print(\"La matriz representada como:\")\n",
    "    n = shape(result[\"matriz\"])[0]\n",
    "    cont = 0\n",
    "    print(\"|\", end=\"\")\n",
    "    for entrada in result[\"matriz\"]:\n",
    "        print(entrada, end=\"\")\n",
    "        if cont == n - 1:\n",
    "            print(\"|\")\n",
    "            print(\"|\", end=\"\")\n",
    "        else:\n",
    "            print(\" \", end=\"\")\n",
    "        cont = (cont + 1) % n\n",
    "    print(\"Tiene polinomio caracteristico:\")\n",
    "    print(f\"{result['polinomio_caracteristico']} = 0\")\n",
    "    print()\n",
    "    print(\"Sus valores y vectores propios son:\")\n",
    "\n",
    "    for i in range(len(result[\"autovalores\"])):\n",
    "        print(f'Lambda {i+1}: {result[\"autovalores\"][i]}')\n",
    "        if result[\"autovectores\"] == []:\n",
    "            continue\n",
    "        for val in result[\"autovectores\"][i][0]:\n",
    "            print(f\"|{val}|\")"
   ]
  },
  {
   "cell_type": "markdown",
   "metadata": {},
   "source": [
    "Se evaluará el método en las siguientes matrices:"
   ]
  },
  {
   "cell_type": "code",
   "execution_count": 39,
   "metadata": {},
   "outputs": [],
   "source": [
    "A_matrix = [[2, 1], [3, 4]]\n",
    "B_matrix = [[3, 2], [3, 4]]\n",
    "C_matrix = [[2, 3], [1, 3]]\n",
    "D_matrix = [[1, 1, 2], [2, 1, 1], [1, 1, 3]]\n",
    "E_matrix = [[1, 1, 2], [2, 1, 3], [1, 1, 1]]\n",
    "F_matrix = [[2, 1, 2], [1, 1, 3], [1, 1, 1]]\n",
    "G_matrix = [[1, 1, 1, 2], [2, 1, 1, 1], [3, 2, 1, 2], [2, 1, 1, 4]]\n",
    "H_matrix = [[1, 2, 1, 2], [2, 1, 1, 1], [3, 2, 1, 2], [2, 1, 1, 4]]"
   ]
  },
  {
   "cell_type": "markdown",
   "metadata": {},
   "source": [
    "Matriz A"
   ]
  },
  {
   "cell_type": "code",
   "execution_count": 33,
   "metadata": {},
   "outputs": [
    {
     "name": "stdout",
     "output_type": "stream",
     "text": [
      "La matriz representada como:\n",
      "|2 1|\n",
      "|3 4|\n",
      "|Tiene polinomio caracteristico:\n",
      "lamda**2 - 6*lamda + 5 = 0\n",
      "\n",
      "Sus valores y vectores propios son:\n",
      "Lambda 1: 5\n",
      "|1/3|\n",
      "|1|\n",
      "Lambda 2: 1\n",
      "|-1|\n",
      "|1|\n"
     ]
    }
   ],
   "source": [
    "matriz = A_matrix\n",
    "resultado = metodo_polinomio_caracteristico(matriz, find_eigenvectors = True)\n",
    "print_poly(resultado)"
   ]
  },
  {
   "cell_type": "markdown",
   "metadata": {},
   "source": [
    "Matriz B"
   ]
  },
  {
   "cell_type": "code",
   "execution_count": 34,
   "metadata": {},
   "outputs": [
    {
     "name": "stdout",
     "output_type": "stream",
     "text": [
      "La matriz representada como:\n",
      "|3 2|\n",
      "|3 4|\n",
      "|Tiene polinomio caracteristico:\n",
      "lamda**2 - 7*lamda + 6 = 0\n",
      "\n",
      "Sus valores y vectores propios son:\n",
      "Lambda 1: 6\n",
      "|2/3|\n",
      "|1|\n",
      "Lambda 2: 1\n",
      "|-1|\n",
      "|1|\n"
     ]
    }
   ],
   "source": [
    "matriz = B_matrix\n",
    "resultado = metodo_polinomio_caracteristico(matriz, find_eigenvectors = True)\n",
    "print_poly(resultado)"
   ]
  },
  {
   "cell_type": "markdown",
   "metadata": {},
   "source": [
    "Matriz C"
   ]
  },
  {
   "cell_type": "code",
   "execution_count": 35,
   "metadata": {},
   "outputs": [
    {
     "name": "stdout",
     "output_type": "stream",
     "text": [
      "La matriz representada como:\n",
      "|2 3|\n",
      "|1 3|\n",
      "|Tiene polinomio caracteristico:\n",
      "lamda**2 - 5*lamda + 3 = 0\n",
      "\n",
      "Sus valores y vectores propios son:\n",
      "Lambda 1: 5/2 - sqrt(13)/2\n",
      "|-3/(-1/2 + sqrt(13)/2)|\n",
      "|1|\n",
      "Lambda 2: sqrt(13)/2 + 5/2\n",
      "|-3/(-sqrt(13)/2 - 1/2)|\n",
      "|1|\n"
     ]
    }
   ],
   "source": [
    "matriz = C_matrix\n",
    "resultado = metodo_polinomio_caracteristico(matriz, find_eigenvectors = True)\n",
    "print_poly(resultado)"
   ]
  },
  {
   "cell_type": "markdown",
   "metadata": {},
   "source": [
    "Las anteriores matrices se les puede calcular en un tiempo extremadamente corto sus valores y vectores propios. Sin embargo, para las siguientes matrices tarda o un tiempo muy largo, o no se llega a una respuesta (falla el método del espacio nulo de Sympy). Por lo tanto, únicamente se mostrarán los valores propios sin sus respectivos vectores. "
   ]
  },
  {
   "cell_type": "markdown",
   "metadata": {},
   "source": [
    "Matriz D"
   ]
  },
  {
   "cell_type": "code",
   "execution_count": 36,
   "metadata": {},
   "outputs": [
    {
     "name": "stdout",
     "output_type": "stream",
     "text": [
      "La matriz representada como:\n",
      "|1 1 2|\n",
      "|2 1 1|\n",
      "|1 1 3|\n",
      "|Tiene polinomio caracteristico:\n",
      "-lamda**3 + 5*lamda**2 - 2*lamda - 1 = 0\n",
      "\n",
      "Sus valores y vectores propios son:\n",
      "Lambda 1: 5/3 + 19/(9*(133/54 + 19*sqrt(3)*I/18)**(1/3)) + (133/54 + 19*sqrt(3)*I/18)**(1/3)\n",
      "Lambda 2: 5/3 + 19/(9*(-1/2 + sqrt(3)*I/2)*(133/54 + 19*sqrt(3)*I/18)**(1/3)) + (-1/2 + sqrt(3)*I/2)*(133/54 + 19*sqrt(3)*I/18)**(1/3)\n",
      "Lambda 3: 5/3 + (-1/2 - sqrt(3)*I/2)*(133/54 + 19*sqrt(3)*I/18)**(1/3) + 19/(9*(-1/2 - sqrt(3)*I/2)*(133/54 + 19*sqrt(3)*I/18)**(1/3))\n"
     ]
    }
   ],
   "source": [
    "matriz = D_matrix\n",
    "resultado = metodo_polinomio_caracteristico(matriz, find_eigenvectors = False)\n",
    "print_poly(resultado)"
   ]
  },
  {
   "cell_type": "markdown",
   "metadata": {},
   "source": [
    "Matriz E"
   ]
  },
  {
   "cell_type": "code",
   "execution_count": 37,
   "metadata": {},
   "outputs": [
    {
     "name": "stdout",
     "output_type": "stream",
     "text": [
      "La matriz representada como:\n",
      "|1 1 2|\n",
      "|2 1 3|\n",
      "|1 1 1|\n",
      "|Tiene polinomio caracteristico:\n",
      "-lamda**3 + 3*lamda**2 + 4*lamda + 1 = 0\n",
      "\n",
      "Sus valores y vectores propios son:\n",
      "Lambda 1: 1 + 7/(3*(7/2 + 7*sqrt(3)*I/18)**(1/3)) + (7/2 + 7*sqrt(3)*I/18)**(1/3)\n",
      "Lambda 2: 1 + 7/(3*(-1/2 + sqrt(3)*I/2)*(7/2 + 7*sqrt(3)*I/18)**(1/3)) + (-1/2 + sqrt(3)*I/2)*(7/2 + 7*sqrt(3)*I/18)**(1/3)\n",
      "Lambda 3: 1 + (-1/2 - sqrt(3)*I/2)*(7/2 + 7*sqrt(3)*I/18)**(1/3) + 7/(3*(-1/2 - sqrt(3)*I/2)*(7/2 + 7*sqrt(3)*I/18)**(1/3))\n"
     ]
    }
   ],
   "source": [
    "matriz = E_matrix\n",
    "resultado = metodo_polinomio_caracteristico(matriz, find_eigenvectors = False)\n",
    "print_poly(resultado)"
   ]
  },
  {
   "cell_type": "markdown",
   "metadata": {},
   "source": [
    "Matriz F"
   ]
  },
  {
   "cell_type": "code",
   "execution_count": 40,
   "metadata": {},
   "outputs": [
    {
     "name": "stdout",
     "output_type": "stream",
     "text": [
      "La matriz representada como:\n",
      "|2 1 2|\n",
      "|1 1 3|\n",
      "|1 1 1|\n",
      "|Tiene polinomio caracteristico:\n",
      "-lamda**3 + 4*lamda**2 + lamda - 2 = 0\n",
      "\n",
      "Sus valores y vectores propios son:\n",
      "Lambda 1: 4/3 + 19/(9*(55/27 + sqrt(426)*I/9)**(1/3)) + (55/27 + sqrt(426)*I/9)**(1/3)\n",
      "Lambda 2: 4/3 + 19/(9*(-1/2 + sqrt(3)*I/2)*(55/27 + sqrt(426)*I/9)**(1/3)) + (-1/2 + sqrt(3)*I/2)*(55/27 + sqrt(426)*I/9)**(1/3)\n",
      "Lambda 3: 4/3 + (-1/2 - sqrt(3)*I/2)*(55/27 + sqrt(426)*I/9)**(1/3) + 19/(9*(-1/2 - sqrt(3)*I/2)*(55/27 + sqrt(426)*I/9)**(1/3))\n"
     ]
    }
   ],
   "source": [
    "matriz = F_matrix\n",
    "resultado = metodo_polinomio_caracteristico(matriz, find_eigenvectors = False)\n",
    "print_poly(resultado)"
   ]
  },
  {
   "cell_type": "markdown",
   "metadata": {},
   "source": [
    "Matriz G"
   ]
  },
  {
   "cell_type": "code",
   "execution_count": 41,
   "metadata": {},
   "outputs": [
    {
     "name": "stdout",
     "output_type": "stream",
     "text": [
      "La matriz representada como:\n",
      "|1 1 1 2|\n",
      "|2 1 1 1|\n",
      "|3 2 1 2|\n",
      "|2 1 1 4|\n",
      "|Tiene polinomio caracteristico:\n",
      "lamda**4 - 7*lamda**3 + lamda**2 + 9*lamda + 3 = 0\n",
      "\n",
      "Sus valores y vectores propios son:\n",
      "Lambda 1: 7/4 + sqrt(139/6 - 2*(6509/432 + sqrt(46983)*I/48)**(1/3) - 243/(4*sqrt(139/12 + 113/(9*(6509/432 + sqrt(46983)*I/48)**(1/3)) + 2*(6509/432 + sqrt(46983)*I/48)**(1/3))) - 113/(9*(6509/432 + sqrt(46983)*I/48)**(1/3)))/2 - sqrt(139/12 + 113/(9*(6509/432 + sqrt(46983)*I/48)**(1/3)) + 2*(6509/432 + sqrt(46983)*I/48)**(1/3))/2\n",
      "Lambda 2: 7/4 - sqrt(139/12 + 113/(9*(6509/432 + sqrt(46983)*I/48)**(1/3)) + 2*(6509/432 + sqrt(46983)*I/48)**(1/3))/2 - sqrt(139/6 - 2*(6509/432 + sqrt(46983)*I/48)**(1/3) - 243/(4*sqrt(139/12 + 113/(9*(6509/432 + sqrt(46983)*I/48)**(1/3)) + 2*(6509/432 + sqrt(46983)*I/48)**(1/3))) - 113/(9*(6509/432 + sqrt(46983)*I/48)**(1/3)))/2\n",
      "Lambda 3: 7/4 + sqrt(139/6 - 2*(6509/432 + sqrt(46983)*I/48)**(1/3) + 243/(4*sqrt(139/12 + 113/(9*(6509/432 + sqrt(46983)*I/48)**(1/3)) + 2*(6509/432 + sqrt(46983)*I/48)**(1/3))) - 113/(9*(6509/432 + sqrt(46983)*I/48)**(1/3)))/2 + sqrt(139/12 + 113/(9*(6509/432 + sqrt(46983)*I/48)**(1/3)) + 2*(6509/432 + sqrt(46983)*I/48)**(1/3))/2\n",
      "Lambda 4: 7/4 - sqrt(139/6 - 2*(6509/432 + sqrt(46983)*I/48)**(1/3) + 243/(4*sqrt(139/12 + 113/(9*(6509/432 + sqrt(46983)*I/48)**(1/3)) + 2*(6509/432 + sqrt(46983)*I/48)**(1/3))) - 113/(9*(6509/432 + sqrt(46983)*I/48)**(1/3)))/2 + sqrt(139/12 + 113/(9*(6509/432 + sqrt(46983)*I/48)**(1/3)) + 2*(6509/432 + sqrt(46983)*I/48)**(1/3))/2\n"
     ]
    }
   ],
   "source": [
    "matriz = G_matrix\n",
    "resultado = metodo_polinomio_caracteristico(matriz, find_eigenvectors = False)\n",
    "print_poly(resultado)"
   ]
  },
  {
   "cell_type": "markdown",
   "metadata": {},
   "source": [
    "Matriz H"
   ]
  },
  {
   "cell_type": "code",
   "execution_count": 42,
   "metadata": {},
   "outputs": [
    {
     "name": "stdout",
     "output_type": "stream",
     "text": [
      "La matriz representada como:\n",
      "|1 2 1 2|\n",
      "|2 1 1 1|\n",
      "|3 2 1 2|\n",
      "|2 1 1 4|\n",
      "|Tiene polinomio caracteristico:\n",
      "lamda**4 - 7*lamda**3 - lamda**2 + 14*lamda + 6 = 0\n",
      "\n",
      "Sus valores y vectores propios son:\n",
      "Lambda 1: 7/4 + sqrt(155/6 - 2*(6389/216 + sqrt(956838)*I/72)**(1/3) - 259/(4*sqrt(155/12 + 367/(18*(6389/216 + sqrt(956838)*I/72)**(1/3)) + 2*(6389/216 + sqrt(956838)*I/72)**(1/3))) - 367/(18*(6389/216 + sqrt(956838)*I/72)**(1/3)))/2 - sqrt(155/12 + 367/(18*(6389/216 + sqrt(956838)*I/72)**(1/3)) + 2*(6389/216 + sqrt(956838)*I/72)**(1/3))/2\n",
      "Lambda 2: 7/4 - sqrt(155/12 + 367/(18*(6389/216 + sqrt(956838)*I/72)**(1/3)) + 2*(6389/216 + sqrt(956838)*I/72)**(1/3))/2 - sqrt(155/6 - 2*(6389/216 + sqrt(956838)*I/72)**(1/3) - 259/(4*sqrt(155/12 + 367/(18*(6389/216 + sqrt(956838)*I/72)**(1/3)) + 2*(6389/216 + sqrt(956838)*I/72)**(1/3))) - 367/(18*(6389/216 + sqrt(956838)*I/72)**(1/3)))/2\n",
      "Lambda 3: 7/4 + sqrt(155/6 - 2*(6389/216 + sqrt(956838)*I/72)**(1/3) + 259/(4*sqrt(155/12 + 367/(18*(6389/216 + sqrt(956838)*I/72)**(1/3)) + 2*(6389/216 + sqrt(956838)*I/72)**(1/3))) - 367/(18*(6389/216 + sqrt(956838)*I/72)**(1/3)))/2 + sqrt(155/12 + 367/(18*(6389/216 + sqrt(956838)*I/72)**(1/3)) + 2*(6389/216 + sqrt(956838)*I/72)**(1/3))/2\n",
      "Lambda 4: 7/4 - sqrt(155/6 - 2*(6389/216 + sqrt(956838)*I/72)**(1/3) + 259/(4*sqrt(155/12 + 367/(18*(6389/216 + sqrt(956838)*I/72)**(1/3)) + 2*(6389/216 + sqrt(956838)*I/72)**(1/3))) - 367/(18*(6389/216 + sqrt(956838)*I/72)**(1/3)))/2 + sqrt(155/12 + 367/(18*(6389/216 + sqrt(956838)*I/72)**(1/3)) + 2*(6389/216 + sqrt(956838)*I/72)**(1/3))/2\n"
     ]
    }
   ],
   "source": [
    "matriz = H_matrix\n",
    "resultado = metodo_polinomio_caracteristico(matriz, find_eigenvectors = False)\n",
    "print_poly(resultado)"
   ]
  },
  {
   "cell_type": "code",
   "execution_count": null,
   "metadata": {},
   "outputs": [],
   "source": []
  }
 ],
 "metadata": {
  "kernelspec": {
   "display_name": "Python 3 (ipykernel)",
   "language": "python",
   "name": "python3"
  },
  "language_info": {
   "codemirror_mode": {
    "name": "ipython",
    "version": 3
   },
   "file_extension": ".py",
   "mimetype": "text/x-python",
   "name": "python",
   "nbconvert_exporter": "python",
   "pygments_lexer": "ipython3",
   "version": "3.12.3"
  }
 },
 "nbformat": 4,
 "nbformat_minor": 2
}
