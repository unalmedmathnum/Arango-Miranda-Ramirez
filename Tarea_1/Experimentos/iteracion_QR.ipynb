{
  "nbformat": 4,
  "nbformat_minor": 0,
  "metadata": {
    "colab": {
      "provenance": []
    },
    "kernelspec": {
      "name": "python3",
      "display_name": "Python 3"
    },
    "language_info": {
      "name": "python"
    }
  },
  "cells": [
    {
      "cell_type": "markdown",
      "source": [
        "Para probar distintas matrices con este método se utilizará el paquete numpy. Notemos que para las matrices iniciales de 2x2 el método no requiere demasiadas iteraciones para converger a la matriz cuya diagonal son los valores propios de la matriz inicial. No obstante, cuando la matriz es de una dimensión mayor, el método llega al límite de las iteraciones para converger a la matriz mencionada. Notemos que el código busca que los resultados sean de tipo float, de modo que las aproximaciones, aunque cercanas, pueden traer problemas.\n",
        "\n",
        "En los experimentos podemos evidenciar que para matrices \"pequeñas\" el método converge en pocas iteraciones; no obstante, aunque para matrices de mayor dimensión el método requiere un número grande de iteraciones, lo cierto es que converge con mucha precisión a los resultados, de modo que podría aumentarse las iteraciones y agregar cierto tipo de criterios (perturbación en las matrices modificadas, por ejemplo; tolerancia menor; computadores más veloces; etc.) para que la convergencia sea aún más precisa.\n",
        "\n"
      ],
      "metadata": {
        "id": "nVX62JLI7a-k"
      }
    },
    {
      "cell_type": "code",
      "source": [
        "import numpy as np\n",
        "from numpy.linalg import qr\n",
        "\n",
        "def QR_Iteracion(A, tol=1e-6, max_iter=1000):\n",
        "    #Definimos la función con una matriz inicial cuadrada, una tolerancia estándar y un número máximo de iteraciones estándar\n",
        "\n",
        "    # Esta función va a retornar a la matriz A después de las iteraciones y cuántas iteraciones fueron necesarias\n",
        "\n",
        "    # Copia inicial de la matriz\n",
        "    A_actual = np.array(A, dtype=float)\n",
        "\n",
        "    for iteracion in range(max_iter):\n",
        "        # Hacemos el primer paso de descomposición QR, incluido en el paquete de Python\n",
        "        Q, R = np.linalg.qr(A_actual)\n",
        "\n",
        "        # Actualizamos la matriz usando Q y R multiplicándolas en el orden inverso para generar la siguiente iteración\n",
        "        A_nueva = R @ Q\n",
        "\n",
        "        # Verificamos la norma de Froebenius de la matriz obtenida, norma que nos permite comparar todas las entradas de las matrices, y aumentamos la iteración\n",
        "        if np.linalg.norm(A_nueva - A_actual, ord='fro') < tol:\n",
        "            return A_nueva, iteracion + 1\n",
        "\n",
        "        # Actualizar A para la siguiente iteración\n",
        "        A_actual = A_nueva\n",
        "\n",
        "    # Si no converge, devolver el resultado actual; si converge, devolver los elementos de la diagonal de la matriz de convergencia, el número de iteraciones y los valores y vectores propios de dicha matriz\n",
        "    return np.diag(A_actual), max_iter, np.linalg.eig(A_actual)"
      ],
      "metadata": {
        "id": "r0HuLtYA81nM"
      },
      "execution_count": null,
      "outputs": []
    },
    {
      "cell_type": "code",
      "source": [
        "A = np.matrix([[2, 1], [3, 4]])\n",
        "\n",
        "QR_Iteracion(A, tol=1e-6, max_iter=1000)"
      ],
      "metadata": {
        "id": "eV8MQqiK85A0"
      },
      "execution_count": null,
      "outputs": []
    },
    {
      "cell_type": "code",
      "source": [
        "A = np.matrix([[3, 2], [3,4]])\n",
        "\n",
        "QR_Iteracion(A, tol=1e-6, max_iter=1000)"
      ],
      "metadata": {
        "colab": {
          "base_uri": "https://localhost:8080/"
        },
        "id": "LdWwN56Tz3dG",
        "outputId": "e38746c7-cbc2-468a-d6d2-9d3d3c7e1004"
      },
      "execution_count": null,
      "outputs": [
        {
          "output_type": "execute_result",
          "data": {
            "text/plain": [
              "(array([[6., 1.],\n",
              "        [0., 1.]]),\n",
              " 418)"
            ]
          },
          "metadata": {},
          "execution_count": 9
        }
      ]
    },
    {
      "cell_type": "code",
      "source": [
        "A = np.matrix([[1, 1, 2], [2, 1, 1], [1, 1, 3]])\n",
        "\n",
        "QR_Iteracion(A, tol=1e-6, max_iter=1000)"
      ],
      "metadata": {
        "colab": {
          "base_uri": "https://localhost:8080/"
        },
        "id": "qS87zXl5z5t2",
        "outputId": "fb37f37e-73d2-4232-d2f4-4eefc8616a7e"
      },
      "execution_count": null,
      "outputs": [
        {
          "output_type": "execute_result",
          "data": {
            "text/plain": [
              "(array([ 4.50701864,  0.77812384, -0.28514248]),\n",
              " 1000,\n",
              " EigResult(eigenvalues=array([ 4.50701864,  0.77812384, -0.28514248]), eigenvectors=array([[1.        , 0.19716465, 0.08857273],\n",
              "        [0.        , 0.98037039, 0.74074701],\n",
              "        [0.        , 0.        , 0.66591947]])))"
            ]
          },
          "metadata": {},
          "execution_count": 10
        }
      ]
    },
    {
      "cell_type": "code",
      "source": [
        "A = np.matrix([[1, 1, 2], [2, 1, 3], [1, 1, 1]])\n",
        "\n",
        "QR_Iteracion(A, tol=1e-6, max_iter=1000)"
      ],
      "metadata": {
        "colab": {
          "base_uri": "https://localhost:8080/"
        },
        "id": "gRfAjLknz8Hc",
        "outputId": "0c7befd5-cc93-40b4-bc4a-60fa67429156"
      },
      "execution_count": null,
      "outputs": [
        {
          "output_type": "execute_result",
          "data": {
            "text/plain": [
              "(array([ 4.04891734, -0.69202147, -0.35689587]),\n",
              " 1000,\n",
              " EigResult(eigenvalues=array([ 4.04891734, -0.69202147, -0.35689587]), eigenvectors=array([[ 1.        ,  0.45086709, -0.08763476],\n",
              "        [ 0.        ,  0.8925911 , -0.35509341],\n",
              "        [ 0.        ,  0.        ,  0.93071414]])))"
            ]
          },
          "metadata": {},
          "execution_count": 11
        }
      ]
    },
    {
      "cell_type": "code",
      "source": [
        "A = np.matrix([[1, 1, 1, 2], [2, 1, 1, 1], [3, 2, 1, 2],  [2, 1, 1, 4]])\n",
        "\n",
        "QR_Iteracion(A, tol=1e-6, max_iter=1000)"
      ],
      "metadata": {
        "colab": {
          "base_uri": "https://localhost:8080/"
        },
        "id": "c875jov-z-0B",
        "outputId": "e71eaa8c-cd70-4674-dcca-0e4ddb12cceb"
      },
      "execution_count": null,
      "outputs": [
        {
          "output_type": "execute_result",
          "data": {
            "text/plain": [
              "(array([ 6.63453446,  1.50856334, -0.73564154, -0.40745627]),\n",
              " 1000,\n",
              " EigResult(eigenvalues=array([ 6.63453446,  1.50856334, -0.73564154, -0.40745627]), eigenvectors=array([[ 1.        ,  0.22416801,  0.28255545, -0.05762194],\n",
              "        [ 0.        ,  0.97455051,  0.43966827,  0.08477969],\n",
              "        [ 0.        ,  0.        ,  0.85255747,  0.22268066],\n",
              "        [ 0.        ,  0.        ,  0.        ,  0.9694872 ]])))"
            ]
          },
          "metadata": {},
          "execution_count": 12
        }
      ]
    },
    {
      "cell_type": "code",
      "source": [
        "A = np.matrix([[1, 2, 1, 2], [2, 1, 1, 1], [3, 2, 1, 2],  [2, 1, 1, 4]])\n",
        "\n",
        "QR_Iteracion(A, tol=1e-6, max_iter=1000)"
      ],
      "metadata": {
        "colab": {
          "base_uri": "https://localhost:8080/"
        },
        "id": "zDEFfaq80C-E",
        "outputId": "7091045a-0576-401f-c499-8cce49804f59"
      },
      "execution_count": null,
      "outputs": [
        {
          "output_type": "execute_result",
          "data": {
            "text/plain": [
              "(array([ 6.82726225,  1.72811591, -1.08793492, -0.46744323]),\n",
              " 1000,\n",
              " EigResult(eigenvalues=array([ 6.82726225,  1.72811591, -1.08793492, -0.46744323]), eigenvectors=array([[ 1.        , -0.15398976,  0.20691394,  0.29609595],\n",
              "        [ 0.        ,  0.98807244, -0.21970509, -0.28719298],\n",
              "        [ 0.        ,  0.        ,  0.95337102,  0.57975337],\n",
              "        [ 0.        ,  0.        ,  0.        ,  0.70266166]])))"
            ]
          },
          "metadata": {},
          "execution_count": 13
        }
      ]
    },
    {
      "cell_type": "code",
      "source": [
        "A = np.matrix([[1, 2, 1, 2], [2, 1, 1, 1], [3, 2, 1, 2],  [2, 1, 1, 4]])\n",
        "\n",
        "QR_Iteracion(A, tol=1e-6, max_iter=1000)"
      ],
      "metadata": {
        "colab": {
          "base_uri": "https://localhost:8080/"
        },
        "id": "EVGDBYezzwNL",
        "outputId": "e31f28c6-029e-479d-c4a8-9dff2abe11f9"
      },
      "execution_count": null,
      "outputs": [
        {
          "output_type": "execute_result",
          "data": {
            "text/plain": [
              "(array([ 6.82726225,  1.72811591, -1.08793492, -0.46744323]),\n",
              " 1000,\n",
              " EigResult(eigenvalues=array([ 6.82726225,  1.72811591, -1.08793492, -0.46744323]), eigenvectors=array([[ 1.        , -0.15398976,  0.20691394,  0.29609595],\n",
              "        [ 0.        ,  0.98807244, -0.21970509, -0.28719298],\n",
              "        [ 0.        ,  0.        ,  0.95337102,  0.57975337],\n",
              "        [ 0.        ,  0.        ,  0.        ,  0.70266166]])))"
            ]
          },
          "metadata": {},
          "execution_count": 14
        }
      ]
    }
  ]
}