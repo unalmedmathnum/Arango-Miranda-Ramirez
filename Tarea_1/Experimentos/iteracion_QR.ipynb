{
  "nbformat": 4,
  "nbformat_minor": 0,
  "metadata": {
    "colab": {
      "provenance": []
    },
    "kernelspec": {
      "name": "python3",
      "display_name": "Python 3"
    },
    "language_info": {
      "name": "python"
    }
  },
  "cells": [
    {
      "cell_type": "code",
      "source": [
        "A = np.matrix([[2, 1], [3, 4]])\n",
        "\n",
        "QR_Iteracion(A, tol=1e-6, max_iter=1000)"
      ],
      "metadata": {
        "colab": {
          "base_uri": "https://localhost:8080/"
        },
        "id": "eaU1nj-Zzsh2",
        "outputId": "e6263f30-56bd-4ec9-8fe1-9aa519d17495"
      },
      "execution_count": null,
      "outputs": [
        {
          "output_type": "execute_result",
          "data": {
            "text/plain": [
              "(array([[ 5., -2.],\n",
              "        [ 0.,  1.]]),\n",
              " 465)"
            ]
          },
          "metadata": {},
          "execution_count": 8
        }
      ]
    },
    {
      "cell_type": "code",
      "source": [
        "A = np.matrix([[3, 2], [3,4]])\n",
        "\n",
        "QR_Iteracion(A, tol=1e-6, max_iter=1000)"
      ],
      "metadata": {
        "colab": {
          "base_uri": "https://localhost:8080/"
        },
        "id": "LdWwN56Tz3dG",
        "outputId": "e38746c7-cbc2-468a-d6d2-9d3d3c7e1004"
      },
      "execution_count": null,
      "outputs": [
        {
          "output_type": "execute_result",
          "data": {
            "text/plain": [
              "(array([[6., 1.],\n",
              "        [0., 1.]]),\n",
              " 418)"
            ]
          },
          "metadata": {},
          "execution_count": 9
        }
      ]
    },
    {
      "cell_type": "code",
      "source": [
        "A = np.matrix([[1, 1, 2], [2, 1, 1], [1, 1, 3]])\n",
        "\n",
        "QR_Iteracion(A, tol=1e-6, max_iter=1000)"
      ],
      "metadata": {
        "colab": {
          "base_uri": "https://localhost:8080/"
        },
        "id": "qS87zXl5z5t2",
        "outputId": "fb37f37e-73d2-4232-d2f4-4eefc8616a7e"
      },
      "execution_count": null,
      "outputs": [
        {
          "output_type": "execute_result",
          "data": {
            "text/plain": [
              "(array([ 4.50701864,  0.77812384, -0.28514248]),\n",
              " 1000,\n",
              " EigResult(eigenvalues=array([ 4.50701864,  0.77812384, -0.28514248]), eigenvectors=array([[1.        , 0.19716465, 0.08857273],\n",
              "        [0.        , 0.98037039, 0.74074701],\n",
              "        [0.        , 0.        , 0.66591947]])))"
            ]
          },
          "metadata": {},
          "execution_count": 10
        }
      ]
    },
    {
      "cell_type": "code",
      "source": [
        "A = np.matrix([[1, 1, 2], [2, 1, 3], [1, 1, 1]])\n",
        "\n",
        "QR_Iteracion(A, tol=1e-6, max_iter=1000)"
      ],
      "metadata": {
        "colab": {
          "base_uri": "https://localhost:8080/"
        },
        "id": "gRfAjLknz8Hc",
        "outputId": "0c7befd5-cc93-40b4-bc4a-60fa67429156"
      },
      "execution_count": null,
      "outputs": [
        {
          "output_type": "execute_result",
          "data": {
            "text/plain": [
              "(array([ 4.04891734, -0.69202147, -0.35689587]),\n",
              " 1000,\n",
              " EigResult(eigenvalues=array([ 4.04891734, -0.69202147, -0.35689587]), eigenvectors=array([[ 1.        ,  0.45086709, -0.08763476],\n",
              "        [ 0.        ,  0.8925911 , -0.35509341],\n",
              "        [ 0.        ,  0.        ,  0.93071414]])))"
            ]
          },
          "metadata": {},
          "execution_count": 11
        }
      ]
    },
    {
      "cell_type": "code",
      "source": [
        "A = np.matrix([[1, 1, 1, 2], [2, 1, 1, 1], [3, 2, 1, 2],  [2, 1, 1, 4]])\n",
        "\n",
        "QR_Iteracion(A, tol=1e-6, max_iter=1000)"
      ],
      "metadata": {
        "colab": {
          "base_uri": "https://localhost:8080/"
        },
        "id": "c875jov-z-0B",
        "outputId": "e71eaa8c-cd70-4674-dcca-0e4ddb12cceb"
      },
      "execution_count": null,
      "outputs": [
        {
          "output_type": "execute_result",
          "data": {
            "text/plain": [
              "(array([ 6.63453446,  1.50856334, -0.73564154, -0.40745627]),\n",
              " 1000,\n",
              " EigResult(eigenvalues=array([ 6.63453446,  1.50856334, -0.73564154, -0.40745627]), eigenvectors=array([[ 1.        ,  0.22416801,  0.28255545, -0.05762194],\n",
              "        [ 0.        ,  0.97455051,  0.43966827,  0.08477969],\n",
              "        [ 0.        ,  0.        ,  0.85255747,  0.22268066],\n",
              "        [ 0.        ,  0.        ,  0.        ,  0.9694872 ]])))"
            ]
          },
          "metadata": {},
          "execution_count": 12
        }
      ]
    },
    {
      "cell_type": "code",
      "source": [
        "A = np.matrix([[1, 2, 1, 2], [2, 1, 1, 1], [3, 2, 1, 2],  [2, 1, 1, 4]])\n",
        "\n",
        "QR_Iteracion(A, tol=1e-6, max_iter=1000)"
      ],
      "metadata": {
        "colab": {
          "base_uri": "https://localhost:8080/"
        },
        "id": "zDEFfaq80C-E",
        "outputId": "7091045a-0576-401f-c499-8cce49804f59"
      },
      "execution_count": null,
      "outputs": [
        {
          "output_type": "execute_result",
          "data": {
            "text/plain": [
              "(array([ 6.82726225,  1.72811591, -1.08793492, -0.46744323]),\n",
              " 1000,\n",
              " EigResult(eigenvalues=array([ 6.82726225,  1.72811591, -1.08793492, -0.46744323]), eigenvectors=array([[ 1.        , -0.15398976,  0.20691394,  0.29609595],\n",
              "        [ 0.        ,  0.98807244, -0.21970509, -0.28719298],\n",
              "        [ 0.        ,  0.        ,  0.95337102,  0.57975337],\n",
              "        [ 0.        ,  0.        ,  0.        ,  0.70266166]])))"
            ]
          },
          "metadata": {},
          "execution_count": 13
        }
      ]
    },
    {
      "cell_type": "code",
      "source": [
        "A = np.matrix([[1, 2, 1, 2], [2, 1, 1, 1], [3, 2, 1, 2],  [2, 1, 1, 4]])\n",
        "\n",
        "QR_Iteracion(A, tol=1e-6, max_iter=1000)"
      ],
      "metadata": {
        "colab": {
          "base_uri": "https://localhost:8080/"
        },
        "id": "EVGDBYezzwNL",
        "outputId": "e31f28c6-029e-479d-c4a8-9dff2abe11f9"
      },
      "execution_count": null,
      "outputs": [
        {
          "output_type": "execute_result",
          "data": {
            "text/plain": [
              "(array([ 6.82726225,  1.72811591, -1.08793492, -0.46744323]),\n",
              " 1000,\n",
              " EigResult(eigenvalues=array([ 6.82726225,  1.72811591, -1.08793492, -0.46744323]), eigenvectors=array([[ 1.        , -0.15398976,  0.20691394,  0.29609595],\n",
              "        [ 0.        ,  0.98807244, -0.21970509, -0.28719298],\n",
              "        [ 0.        ,  0.        ,  0.95337102,  0.57975337],\n",
              "        [ 0.        ,  0.        ,  0.        ,  0.70266166]])))"
            ]
          },
          "metadata": {},
          "execution_count": 14
        }
      ]
    }
  ]
}